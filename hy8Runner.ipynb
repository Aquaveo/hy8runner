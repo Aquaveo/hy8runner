{
 "cells": [
  {
   "cell_type": "markdown",
   "metadata": {},
   "source": [
    "This Jupyter Notebook will demonstrate how to use the Hy8Runner class to operate the 'open, run, save', 'open, run, save, plot', 'build full report', 'build flow, tw table', and the 'build hw, tw table' commands. \n",
    "\n",
    "First we will import os and the Hy8Runner class."
   ]
  },
  {
   "cell_type": "code",
   "execution_count": 5,
   "metadata": {},
   "outputs": [],
   "source": [
    "import os\n",
    "from hy8runner.hy8_runner import Hy8Runner\n"
   ]
  },
  {
   "cell_type": "markdown",
   "metadata": {},
   "source": [
    "Next we will setup variables for a shortcut for our directories.\n",
    "test_dir is the test folder of my repository. My HY-8 executable and .hy8 file will be created relative from that folder."
   ]
  },
  {
   "cell_type": "code",
   "execution_count": 6,
   "metadata": {},
   "outputs": [
    {
     "name": "stdout",
     "output_type": "stream",
     "text": [
      "c:\\Code\\hy8Runner\\tests\n",
      "c:\\Code\\hy8Runner\\tests\\HY8\n",
      "c:\\Code\\hy8Runner\\tests\\files\\hy8_test_files\n"
     ]
    }
   ],
   "source": [
    "test_dir = os.path.join(os.getcwd(), 'tests')\n",
    "hy8_exe_dir = os.path.join(test_dir, 'HY8')\n",
    "hy8_test_files_dir = os.path.join(test_dir, 'files', 'hy8_test_files')\n",
    "\n",
    "print(test_dir)\n",
    "print(hy8_exe_dir)\n",
    "print(hy8_test_files_dir)"
   ]
  },
  {
   "cell_type": "markdown",
   "metadata": {},
   "source": [
    "I'm setting up a function that will create an HY-8 crossing that will be used for each example.\n",
    "There are more functions available, but these are the functions that I think will be most useful to you after our discussion."
   ]
  },
  {
   "cell_type": "code",
   "execution_count": 7,
   "metadata": {},
   "outputs": [],
   "source": [
    "def set_crossing_data(hy8_runner):\n",
    "    \"\"\"Create the crossing data for the test.\"\"\"\n",
    "    # Set min, max, and increment flow values\n",
    "    hy8_runner.set_discharge_min_max_inc_flow(0, 200, 50)\n",
    "    # Set the tailwater channel invert elevation and the tailwater elevation\n",
    "    hy8_runner.set_tw_constant(98, 100)\n",
    "    # Set the roadway width\n",
    "    hy8_runner.set_roadway_width(25)\n",
    "    # Set the irregular roadway data (alternatively you can set a constant roadway elevation)\n",
    "    hy8_runner.set_roadway_stations_and_elevations([0, 100, 200], [110, 112, 111])\n",
    "    # Set the culvert barrel shape: 'circle' or 'box'\n",
    "    hy8_runner.set_culvert_barrel_shape('circle')\n",
    "    # Set the culvert barrel material: 'concrete', 'corrugated steel'\n",
    "    hy8_runner.set_culvert_barrel_material('concrete')\n",
    "    # Set the culvert barrel span and rise (only span is required for circle)\n",
    "    hy8_runner.set_culvert_barrel_span_and_rise(5, 4)\n",
    "    # Set the culvert barrel site data (inlet station, inlet invert elevation, outlet station, outlet invert elevation)\n",
    "    hy8_runner.set_culvert_barrel_site_data(0, 100, 40, 98)"
   ]
  },
  {
   "cell_type": "markdown",
   "metadata": {},
   "source": [
    "This example will demonstrate invoking the HY-8 'open, run, save' command.\n",
    "We start by declaring the .hy8 file. We declare an instance of the Hy8Runner class and pass in the HY-8 executable folder and the .hy8 filename.\n",
    "We set the crossing data and this example will use the convenience function created above.\n",
    "Next we create the hy8 file and check for errors. I do not check for all errors, but have some basic error checking.\n",
    "Finally, we invoke the 'run, open, save' command.\n",
    "\n",
    "HY-8 will generate three files with the same base name of the .hy8 file (open_run_save, in this example):\n",
    "- rst: this file contains the same results that is in the HY-8 analyze dialog.\n",
    "- rsql: this file contains some results that were created for an abandoned website project. Verify results pulled from this file.\n",
    "- plt: this file contains the plotting data that correspond to the rst file."
   ]
  },
  {
   "cell_type": "code",
   "execution_count": 8,
   "metadata": {},
   "outputs": [],
   "source": [
    "# Setup the hy8 filename\n",
    "hy8_file = os.path.join(hy8_test_files_dir, 'open_run_save.hy8')\n",
    "\n",
    "hy8_runner = Hy8Runner(hy8_exe_dir, hy8_file)\n",
    "\n",
    "# Uses my function to setup the culvert crossing\n",
    "set_crossing_data(hy8_runner)\n",
    "\n",
    "# Create the hy8 file; if it fails, it will return False and a list of error messages\n",
    "result, messages = hy8_runner.create_hy8_file()\n",
    "if result:\n",
    "    # Call HY-8 to generate the result file (rst), the result sql file (rsql), and the plot file (plt)\n",
    "    hy8_runner.run_open_save()"
   ]
  },
  {
   "cell_type": "markdown",
   "metadata": {},
   "source": [
    "This example will demonstrate invoking the HY-8 'open, run, save, plot' command.\n",
    "This example is the same as the last with one exception. It will generate bmp files of the side-view plots of HY-8."
   ]
  },
  {
   "cell_type": "code",
   "execution_count": 9,
   "metadata": {},
   "outputs": [],
   "source": [
    "hy8_file = os.path.join(hy8_test_files_dir, 'open_run_save_plots.hy8')\n",
    "hy8_runner = Hy8Runner(hy8_exe_dir, hy8_file)\n",
    "\n",
    "# Uses my function to setup the culvert crossing\n",
    "set_crossing_data(hy8_runner)\n",
    "\n",
    "# Create the hy8 file; if it fails, it will return False and a list of error messages\n",
    "result, messages = hy8_runner.create_hy8_file()\n",
    "if result:\n",
    "    # Call HY-8 to generate the result file (rst), the result sql file (rsql), the plot file (plt), and bmp files for each flow\n",
    "    hy8_runner.run_open_save_plots()"
   ]
  },
  {
   "cell_type": "markdown",
   "metadata": {},
   "source": [
    "This example will demonstrate invoking the HY-8 'build full report' command.\n",
    "We start by declaring the .hy8 file. We declare an instance of the Hy8Runner class and pass in the HY-8 executable folder and the .hy8 filename.\n",
    "We set the crossing data and this example will use the convenience function created above.\n",
    "Next we create the hy8 file and check for errors. I do not check for all errors, but have some basic error checking.\n",
    "Finally, we invoke the 'build full report' command.\n",
    "\n",
    "HY-8 will generate one file with the same base name of the .hy8 file (build_full_report, in this example):\n",
    "- docx: this file contains the full report, same as can be generated from the HY-8 interface"
   ]
  },
  {
   "cell_type": "code",
   "execution_count": 10,
   "metadata": {},
   "outputs": [],
   "source": [
    "hy8_file = os.path.join(hy8_test_files_dir, 'build_full_report.hy8')\n",
    "hy8_runner = Hy8Runner(hy8_exe_dir, hy8_file)\n",
    "\n",
    "# Uses my function to setup the culvert crossing\n",
    "set_crossing_data(hy8_runner)\n",
    "\n",
    "# Create the hy8 file; if it fails, it will return False and a list of error messages\n",
    "result, messages = hy8_runner.create_hy8_file()\n",
    "if result:\n",
    "    # Call HY-8 to generate the full report\n",
    "    hy8_runner.run_build_full_report()\n",
    "# docx report file is created at the location of the hy8 file, same file name with .docx extension"
   ]
  },
  {
   "cell_type": "markdown",
   "metadata": {},
   "source": [
    "This example will demonstrate invoking the HY-8 'build flow tw table' command.  ** Note this takes considerable time to generate **\n",
    "We start by declaring the .hy8 file. We declare an instance of the Hy8Runner class and pass in the HY-8 executable folder and the .hy8 filename.\n",
    "We set the crossing data and this example will use the convenience function created above.\n",
    "Next we create the hy8 file and check for errors. I do not check for all errors, but have some basic error checking.\n",
    "Finally, we invoke the 'build flow tw table' command.\n",
    "\n",
    "HY-8 will generate one file with the same base name of the .hy8 file (build_full_report, in this example):\n",
    "- table: this file contains the table of the headwater for a given flow and tailwater"
   ]
  },
  {
   "cell_type": "code",
   "execution_count": null,
   "metadata": {},
   "outputs": [],
   "source": [
    "hy8_file = os.path.join(hy8_test_files_dir, 'build_flow_tw_table.hy8')\n",
    "hy8_runner = Hy8Runner(hy8_exe_dir, hy8_file)\n",
    "\n",
    "# Uses my function to setup the culvert crossing\n",
    "set_crossing_data(hy8_runner)\n",
    "\n",
    "# Create the hy8 file; if it fails, it will return False and a list of error messages\n",
    "result, messages = hy8_runner.create_hy8_file()\n",
    "if result:\n",
    "    # Call HY-8 to generate the flow-tailwater table\n",
    "    hy8_runner.run_build_flow_tw_table()"
   ]
  },
  {
   "cell_type": "markdown",
   "metadata": {},
   "source": [
    "This example will demonstrate invoking the HY-8 'build flow tw table' command.  ** Note this takes a VERY considerable amount of time to generate **\n",
    "We start by declaring the .hy8 file. We declare an instance of the Hy8Runner class and pass in the HY-8 executable folder and the .hy8 filename.\n",
    "We set the crossing data and this example will use the convenience function created above.\n",
    "Next we create the hy8 file and check for errors. I do not check for all errors, but have some basic error checking.\n",
    "Finally, we invoke the 'build flow tw table' command.\n",
    "\n",
    "HY-8 will generate one file for every crossing with a base name of the crossing's GUID file:\n",
    "- table: this file contains the table of the flow for a given headwater and tailwater"
   ]
  },
  {
   "cell_type": "code",
   "execution_count": null,
   "metadata": {},
   "outputs": [],
   "source": [
    "hy8_file = os.path.join(hy8_test_files_dir, 'build_hw_tw_table.hy8')\n",
    "hy8_runner = Hy8Runner(hy8_exe_dir, hy8_file)\n",
    "\n",
    "# Uses my function to setup the culvert crossing\n",
    "set_crossing_data(hy8_runner)\n",
    "# You will want to assign a UUID to the crossing to know the filename of the table that will be created.\n",
    "hy8_runner.crossings[0].guid = '38fb71e5-255b-451c-b616-2e219d9f82ad'\n",
    "\n",
    "# Create the hy8 file; if it fails, it will return False and a list of error messages\n",
    "result, messages = hy8_runner.create_hy8_file()\n",
    "if result:\n",
    "    # Call HY-8 to generate the hw-tailwater table\n",
    "    hy8_runner.run_build_hw_tw_table()"
   ]
  }
 ],
 "metadata": {
  "kernelspec": {
   "display_name": "Python 3",
   "language": "python",
   "name": "python3"
  },
  "language_info": {
   "codemirror_mode": {
    "name": "ipython",
    "version": 3
   },
   "file_extension": ".py",
   "mimetype": "text/x-python",
   "name": "python",
   "nbconvert_exporter": "python",
   "pygments_lexer": "ipython3",
   "version": "3.10.2"
  }
 },
 "nbformat": 4,
 "nbformat_minor": 2
}
